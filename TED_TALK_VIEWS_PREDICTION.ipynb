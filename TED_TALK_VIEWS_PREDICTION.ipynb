{
  "nbformat": 4,
  "nbformat_minor": 0,
  "metadata": {
    "colab": {
      "name": "TED TALK VIEWS PREDICTION",
      "provenance": [],
      "collapsed_sections": [],
      "authorship_tag": "ABX9TyO8v1e70Uy6TjYCke04HQI5",
      "include_colab_link": true
    },
    "kernelspec": {
      "name": "python3",
      "display_name": "Python 3"
    },
    "language_info": {
      "name": "python"
    }
  },
  "cells": [
    {
      "cell_type": "markdown",
      "metadata": {
        "id": "view-in-github",
        "colab_type": "text"
      },
      "source": [
        "<a href=\"https://colab.research.google.com/github/RahulSinghWaldia/TED-TALK-VIEWS-PREDICTION/blob/main/TED_TALK_VIEWS_PREDICTION.ipynb\" target=\"_parent\"><img src=\"https://colab.research.google.com/assets/colab-badge.svg\" alt=\"Open In Colab\"/></a>"
      ]
    },
    {
      "cell_type": "markdown",
      "source": [
        "I will be using ensebmle regression methods to predict the views given talk will accumulate."
      ],
      "metadata": {
        "id": "zlVNDu00tCRR"
      }
    },
    {
      "cell_type": "code",
      "execution_count": null,
      "metadata": {
        "id": "TX0aD2A2i9-B"
      },
      "outputs": [],
      "source": [
        "import pandas as pd\n",
        "import numpy as np\n",
        "\n",
        "from scipy import stats\n",
        "\n",
        "from sklearn.model_selection import GridSearchCV, RandomizedSearchCV\n",
        "from sklearn.metrics import mean_absolute_error\n",
        "from sklearn.model_selection import train_test_split\n",
        "from sklearn.tree import DecisionTreeRegressor\n",
        "from sklearn.ensemble import RandomForestRegressor\n",
        "from sklearn.model_selection import KFold\n",
        "\n",
        "from xgboost import XGBRegressor, plot_importance\n",
        "\n",
        "from matplotlib import pyplot as plt\n",
        "import seaborn as sns\n",
        "\n",
        "import warnings\n",
        "warnings.filterwarnings(\"ignore\")\n",
        "\n"
      ]
    },
    {
      "cell_type": "code",
      "source": [
        "df = pd.read_csv(r'/content/sample_data/ted_main.csv')\n"
      ],
      "metadata": {
        "id": "xRSLnKnlloHS"
      },
      "execution_count": null,
      "outputs": []
    },
    {
      "cell_type": "code",
      "source": [
        "df.info()"
      ],
      "metadata": {
        "colab": {
          "base_uri": "https://localhost:8080/"
        },
        "id": "aRNDPWwLm5bb",
        "outputId": "c11c0d55-5830-41b9-fbe7-244735a20ab9"
      },
      "execution_count": null,
      "outputs": [
        {
          "output_type": "stream",
          "name": "stdout",
          "text": [
            "<class 'pandas.core.frame.DataFrame'>\n",
            "RangeIndex: 2550 entries, 0 to 2549\n",
            "Data columns (total 17 columns):\n",
            " #   Column              Non-Null Count  Dtype \n",
            "---  ------              --------------  ----- \n",
            " 0   comments            2550 non-null   int64 \n",
            " 1   description         2550 non-null   object\n",
            " 2   duration            2550 non-null   int64 \n",
            " 3   event               2550 non-null   object\n",
            " 4   film_date           2550 non-null   int64 \n",
            " 5   languages           2550 non-null   int64 \n",
            " 6   main_speaker        2550 non-null   object\n",
            " 7   name                2550 non-null   object\n",
            " 8   num_speaker         2550 non-null   int64 \n",
            " 9   published_date      2550 non-null   int64 \n",
            " 10  ratings             2550 non-null   object\n",
            " 11  related_talks       2550 non-null   object\n",
            " 12  speaker_occupation  2544 non-null   object\n",
            " 13  tags                2550 non-null   object\n",
            " 14  title               2550 non-null   object\n",
            " 15  url                 2550 non-null   object\n",
            " 16  views               2550 non-null   int64 \n",
            "dtypes: int64(7), object(10)\n",
            "memory usage: 338.8+ KB\n"
          ]
        }
      ]
    },
    {
      "cell_type": "markdown",
      "source": [
        "Prepare data for modeling - remove missing values, feature engineering, remove outliers"
      ],
      "metadata": {
        "id": "kN9IR5aztSMb"
      }
    },
    {
      "cell_type": "code",
      "source": [
        "# There are only 6 rows with missing data for speaker_occupation and I decide to drop those as it will not affect the dataset in a measurable way.\n",
        "df.dropna(axis=0, subset=['speaker_occupation'], inplace=True)\n",
        "df.info()"
      ],
      "metadata": {
        "colab": {
          "base_uri": "https://localhost:8080/"
        },
        "id": "qTT51FyPog44",
        "outputId": "46da77c6-5361-4859-b856-c0d73ee040a0"
      },
      "execution_count": null,
      "outputs": [
        {
          "output_type": "stream",
          "name": "stdout",
          "text": [
            "<class 'pandas.core.frame.DataFrame'>\n",
            "Int64Index: 2544 entries, 0 to 2549\n",
            "Data columns (total 17 columns):\n",
            " #   Column              Non-Null Count  Dtype \n",
            "---  ------              --------------  ----- \n",
            " 0   comments            2544 non-null   int64 \n",
            " 1   description         2544 non-null   object\n",
            " 2   duration            2544 non-null   int64 \n",
            " 3   event               2544 non-null   object\n",
            " 4   film_date           2544 non-null   int64 \n",
            " 5   languages           2544 non-null   int64 \n",
            " 6   main_speaker        2544 non-null   object\n",
            " 7   name                2544 non-null   object\n",
            " 8   num_speaker         2544 non-null   int64 \n",
            " 9   published_date      2544 non-null   int64 \n",
            " 10  ratings             2544 non-null   object\n",
            " 11  related_talks       2544 non-null   object\n",
            " 12  speaker_occupation  2544 non-null   object\n",
            " 13  tags                2544 non-null   object\n",
            " 14  title               2544 non-null   object\n",
            " 15  url                 2544 non-null   object\n",
            " 16  views               2544 non-null   int64 \n",
            "dtypes: int64(7), object(10)\n",
            "memory usage: 357.8+ KB\n"
          ]
        }
      ]
    },
    {
      "cell_type": "markdown",
      "source": [
        "Detect and remove outliers from numerical columns"
      ],
      "metadata": {
        "id": "YrNJRzYmtaBZ"
      }
    },
    {
      "cell_type": "code",
      "source": [
        "df.describe()\n"
      ],
      "metadata": {
        "colab": {
          "base_uri": "https://localhost:8080/",
          "height": 300
        },
        "id": "6Ewzq8H5ol_i",
        "outputId": "dc8673eb-a2b7-4a2f-ee3b-9cc968aa633f"
      },
      "execution_count": null,
      "outputs": [
        {
          "output_type": "execute_result",
          "data": {
            "text/plain": [
              "          comments     duration     film_date    languages  num_speaker  \\\n",
              "count  2544.000000  2544.000000  2.544000e+03  2544.000000  2544.000000   \n",
              "mean    191.706761   827.316431  1.321828e+09    27.319969     1.028302   \n",
              "std     282.613719   373.828955  1.198455e+08     9.563529     0.207945   \n",
              "min       2.000000   135.000000  7.464960e+07     0.000000     1.000000   \n",
              "25%      63.000000   578.750000  1.257466e+09    23.000000     1.000000   \n",
              "50%     118.000000   848.500000  1.333238e+09    28.000000     1.000000   \n",
              "75%     222.000000  1047.000000  1.412921e+09    33.000000     1.000000   \n",
              "max    6404.000000  5256.000000  1.503792e+09    72.000000     5.000000   \n",
              "\n",
              "       published_date         views  \n",
              "count    2.544000e+03  2.544000e+03  \n",
              "mean     1.343456e+09  1.699779e+06  \n",
              "std      9.471837e+07  2.501043e+06  \n",
              "min      1.151367e+09  5.044300e+04  \n",
              "25%      1.268341e+09  7.565802e+05  \n",
              "50%      1.340935e+09  1.123870e+06  \n",
              "75%      1.423519e+09  1.702149e+06  \n",
              "max      1.506092e+09  4.722711e+07  "
            ],
            "text/html": [
              "\n",
              "  <div id=\"df-906a8cb0-335f-488a-b3d7-5f86cc1e946f\">\n",
              "    <div class=\"colab-df-container\">\n",
              "      <div>\n",
              "<style scoped>\n",
              "    .dataframe tbody tr th:only-of-type {\n",
              "        vertical-align: middle;\n",
              "    }\n",
              "\n",
              "    .dataframe tbody tr th {\n",
              "        vertical-align: top;\n",
              "    }\n",
              "\n",
              "    .dataframe thead th {\n",
              "        text-align: right;\n",
              "    }\n",
              "</style>\n",
              "<table border=\"1\" class=\"dataframe\">\n",
              "  <thead>\n",
              "    <tr style=\"text-align: right;\">\n",
              "      <th></th>\n",
              "      <th>comments</th>\n",
              "      <th>duration</th>\n",
              "      <th>film_date</th>\n",
              "      <th>languages</th>\n",
              "      <th>num_speaker</th>\n",
              "      <th>published_date</th>\n",
              "      <th>views</th>\n",
              "    </tr>\n",
              "  </thead>\n",
              "  <tbody>\n",
              "    <tr>\n",
              "      <th>count</th>\n",
              "      <td>2544.000000</td>\n",
              "      <td>2544.000000</td>\n",
              "      <td>2.544000e+03</td>\n",
              "      <td>2544.000000</td>\n",
              "      <td>2544.000000</td>\n",
              "      <td>2.544000e+03</td>\n",
              "      <td>2.544000e+03</td>\n",
              "    </tr>\n",
              "    <tr>\n",
              "      <th>mean</th>\n",
              "      <td>191.706761</td>\n",
              "      <td>827.316431</td>\n",
              "      <td>1.321828e+09</td>\n",
              "      <td>27.319969</td>\n",
              "      <td>1.028302</td>\n",
              "      <td>1.343456e+09</td>\n",
              "      <td>1.699779e+06</td>\n",
              "    </tr>\n",
              "    <tr>\n",
              "      <th>std</th>\n",
              "      <td>282.613719</td>\n",
              "      <td>373.828955</td>\n",
              "      <td>1.198455e+08</td>\n",
              "      <td>9.563529</td>\n",
              "      <td>0.207945</td>\n",
              "      <td>9.471837e+07</td>\n",
              "      <td>2.501043e+06</td>\n",
              "    </tr>\n",
              "    <tr>\n",
              "      <th>min</th>\n",
              "      <td>2.000000</td>\n",
              "      <td>135.000000</td>\n",
              "      <td>7.464960e+07</td>\n",
              "      <td>0.000000</td>\n",
              "      <td>1.000000</td>\n",
              "      <td>1.151367e+09</td>\n",
              "      <td>5.044300e+04</td>\n",
              "    </tr>\n",
              "    <tr>\n",
              "      <th>25%</th>\n",
              "      <td>63.000000</td>\n",
              "      <td>578.750000</td>\n",
              "      <td>1.257466e+09</td>\n",
              "      <td>23.000000</td>\n",
              "      <td>1.000000</td>\n",
              "      <td>1.268341e+09</td>\n",
              "      <td>7.565802e+05</td>\n",
              "    </tr>\n",
              "    <tr>\n",
              "      <th>50%</th>\n",
              "      <td>118.000000</td>\n",
              "      <td>848.500000</td>\n",
              "      <td>1.333238e+09</td>\n",
              "      <td>28.000000</td>\n",
              "      <td>1.000000</td>\n",
              "      <td>1.340935e+09</td>\n",
              "      <td>1.123870e+06</td>\n",
              "    </tr>\n",
              "    <tr>\n",
              "      <th>75%</th>\n",
              "      <td>222.000000</td>\n",
              "      <td>1047.000000</td>\n",
              "      <td>1.412921e+09</td>\n",
              "      <td>33.000000</td>\n",
              "      <td>1.000000</td>\n",
              "      <td>1.423519e+09</td>\n",
              "      <td>1.702149e+06</td>\n",
              "    </tr>\n",
              "    <tr>\n",
              "      <th>max</th>\n",
              "      <td>6404.000000</td>\n",
              "      <td>5256.000000</td>\n",
              "      <td>1.503792e+09</td>\n",
              "      <td>72.000000</td>\n",
              "      <td>5.000000</td>\n",
              "      <td>1.506092e+09</td>\n",
              "      <td>4.722711e+07</td>\n",
              "    </tr>\n",
              "  </tbody>\n",
              "</table>\n",
              "</div>\n",
              "      <button class=\"colab-df-convert\" onclick=\"convertToInteractive('df-906a8cb0-335f-488a-b3d7-5f86cc1e946f')\"\n",
              "              title=\"Convert this dataframe to an interactive table.\"\n",
              "              style=\"display:none;\">\n",
              "        \n",
              "  <svg xmlns=\"http://www.w3.org/2000/svg\" height=\"24px\"viewBox=\"0 0 24 24\"\n",
              "       width=\"24px\">\n",
              "    <path d=\"M0 0h24v24H0V0z\" fill=\"none\"/>\n",
              "    <path d=\"M18.56 5.44l.94 2.06.94-2.06 2.06-.94-2.06-.94-.94-2.06-.94 2.06-2.06.94zm-11 1L8.5 8.5l.94-2.06 2.06-.94-2.06-.94L8.5 2.5l-.94 2.06-2.06.94zm10 10l.94 2.06.94-2.06 2.06-.94-2.06-.94-.94-2.06-.94 2.06-2.06.94z\"/><path d=\"M17.41 7.96l-1.37-1.37c-.4-.4-.92-.59-1.43-.59-.52 0-1.04.2-1.43.59L10.3 9.45l-7.72 7.72c-.78.78-.78 2.05 0 2.83L4 21.41c.39.39.9.59 1.41.59.51 0 1.02-.2 1.41-.59l7.78-7.78 2.81-2.81c.8-.78.8-2.07 0-2.86zM5.41 20L4 18.59l7.72-7.72 1.47 1.35L5.41 20z\"/>\n",
              "  </svg>\n",
              "      </button>\n",
              "      \n",
              "  <style>\n",
              "    .colab-df-container {\n",
              "      display:flex;\n",
              "      flex-wrap:wrap;\n",
              "      gap: 12px;\n",
              "    }\n",
              "\n",
              "    .colab-df-convert {\n",
              "      background-color: #E8F0FE;\n",
              "      border: none;\n",
              "      border-radius: 50%;\n",
              "      cursor: pointer;\n",
              "      display: none;\n",
              "      fill: #1967D2;\n",
              "      height: 32px;\n",
              "      padding: 0 0 0 0;\n",
              "      width: 32px;\n",
              "    }\n",
              "\n",
              "    .colab-df-convert:hover {\n",
              "      background-color: #E2EBFA;\n",
              "      box-shadow: 0px 1px 2px rgba(60, 64, 67, 0.3), 0px 1px 3px 1px rgba(60, 64, 67, 0.15);\n",
              "      fill: #174EA6;\n",
              "    }\n",
              "\n",
              "    [theme=dark] .colab-df-convert {\n",
              "      background-color: #3B4455;\n",
              "      fill: #D2E3FC;\n",
              "    }\n",
              "\n",
              "    [theme=dark] .colab-df-convert:hover {\n",
              "      background-color: #434B5C;\n",
              "      box-shadow: 0px 1px 3px 1px rgba(0, 0, 0, 0.15);\n",
              "      filter: drop-shadow(0px 1px 2px rgba(0, 0, 0, 0.3));\n",
              "      fill: #FFFFFF;\n",
              "    }\n",
              "  </style>\n",
              "\n",
              "      <script>\n",
              "        const buttonEl =\n",
              "          document.querySelector('#df-906a8cb0-335f-488a-b3d7-5f86cc1e946f button.colab-df-convert');\n",
              "        buttonEl.style.display =\n",
              "          google.colab.kernel.accessAllowed ? 'block' : 'none';\n",
              "\n",
              "        async function convertToInteractive(key) {\n",
              "          const element = document.querySelector('#df-906a8cb0-335f-488a-b3d7-5f86cc1e946f');\n",
              "          const dataTable =\n",
              "            await google.colab.kernel.invokeFunction('convertToInteractive',\n",
              "                                                     [key], {});\n",
              "          if (!dataTable) return;\n",
              "\n",
              "          const docLinkHtml = 'Like what you see? Visit the ' +\n",
              "            '<a target=\"_blank\" href=https://colab.research.google.com/notebooks/data_table.ipynb>data table notebook</a>'\n",
              "            + ' to learn more about interactive tables.';\n",
              "          element.innerHTML = '';\n",
              "          dataTable['output_type'] = 'display_data';\n",
              "          await google.colab.output.renderOutput(dataTable, element);\n",
              "          const docLink = document.createElement('div');\n",
              "          docLink.innerHTML = docLinkHtml;\n",
              "          element.appendChild(docLink);\n",
              "        }\n",
              "      </script>\n",
              "    </div>\n",
              "  </div>\n",
              "  "
            ]
          },
          "metadata": {},
          "execution_count": 17
        }
      ]
    },
    {
      "cell_type": "code",
      "source": [
        "sns.pairplot(df[['comments', 'duration', 'languages', 'num_speaker']],  size=2)\n",
        "plt.show()"
      ],
      "metadata": {
        "colab": {
          "base_uri": "https://localhost:8080/",
          "height": 585
        },
        "id": "ZISdNXM1pTFk",
        "outputId": "7c249e3b-c6d7-4874-f255-15098ef2204a"
      },
      "execution_count": null,
      "outputs": [
        {
          "output_type": "display_data",
          "data": {
            "text/plain": [
              "<Figure size 576x576 with 20 Axes>"
            ],
            "image/png": "[encoded data removed]"
          },
          "metadata": {
            "needs_background": "light"
          }
        }
      ]
    },
    {
      "cell_type": "markdown",
      "source": [
        "Standard deviation accross some numerical columns is quite high which suggests that there are outliers."
      ],
      "metadata": {
        "id": "XXD7B-fEtlDr"
      }
    },
    {
      "cell_type": "code",
      "source": [
        "fig, (ax1, ax2) = plt.subplots(1,2)\n",
        "sns.boxplot(y= df.views, ax=ax1)\n",
        "sns.boxplot(y=df.comments, ax=ax2)\n",
        "plt.subplots_adjust(wspace=0.50)\n",
        "plt.show()\n"
      ],
      "metadata": {
        "colab": {
          "base_uri": "https://localhost:8080/",
          "height": 263
        },
        "id": "EpKbw-5mpYDS",
        "outputId": "3175ae99-15f6-43cc-e76c-556dd8ab4865"
      },
      "execution_count": null,
      "outputs": [
        {
          "output_type": "display_data",
          "data": {
            "text/plain": [
              "<Figure size 432x288 with 2 Axes>"
            ],
            "image/png": "[encoded data removed]"
          },
          "metadata": {
            "needs_background": "light"
          }
        }
      ]
    },
    {
      "cell_type": "markdown",
      "source": [
        "Indeed the boxplots confirm that those two columns contain many outliers."
      ],
      "metadata": {
        "id": "2CMOXM6DtrvK"
      }
    },
    {
      "cell_type": "code",
      "source": [
        "# Compute z-score for each value in a colun relative to the column mean and std and use the resulting value to filter outliers from each specified column in the dataframe.\n",
        "\n",
        "df = df[(np.abs(stats.zscore(df[['comments', 'views']])) < 3).all(axis=1)]"
      ],
      "metadata": {
        "id": "9B8QxqULqkAe"
      },
      "execution_count": null,
      "outputs": []
    },
    {
      "cell_type": "code",
      "source": [
        "df.info()"
      ],
      "metadata": {
        "colab": {
          "base_uri": "https://localhost:8080/"
        },
        "id": "z58NootPq7cC",
        "outputId": "aa18d23c-480a-4eb4-9b32-d70ecc1f9d5b"
      },
      "execution_count": null,
      "outputs": [
        {
          "output_type": "stream",
          "name": "stdout",
          "text": [
            "<class 'pandas.core.frame.DataFrame'>\n",
            "Int64Index: 2485 entries, 1 to 2549\n",
            "Data columns (total 17 columns):\n",
            " #   Column              Non-Null Count  Dtype \n",
            "---  ------              --------------  ----- \n",
            " 0   comments            2485 non-null   int64 \n",
            " 1   description         2485 non-null   object\n",
            " 2   duration            2485 non-null   int64 \n",
            " 3   event               2485 non-null   object\n",
            " 4   film_date           2485 non-null   int64 \n",
            " 5   languages           2485 non-null   int64 \n",
            " 6   main_speaker        2485 non-null   object\n",
            " 7   name                2485 non-null   object\n",
            " 8   num_speaker         2485 non-null   int64 \n",
            " 9   published_date      2485 non-null   int64 \n",
            " 10  ratings             2485 non-null   object\n",
            " 11  related_talks       2485 non-null   object\n",
            " 12  speaker_occupation  2485 non-null   object\n",
            " 13  tags                2485 non-null   object\n",
            " 14  title               2485 non-null   object\n",
            " 15  url                 2485 non-null   object\n",
            " 16  views               2485 non-null   int64 \n",
            "dtypes: int64(7), object(10)\n",
            "memory usage: 349.5+ KB\n"
          ]
        }
      ]
    },
    {
      "cell_type": "code",
      "source": [
        "df.describe()"
      ],
      "metadata": {
        "colab": {
          "base_uri": "https://localhost:8080/",
          "height": 300
        },
        "id": "tJhTRZSnq-SO",
        "outputId": "a49383c9-68eb-4f1c-8c0b-c86c3c0d5267"
      },
      "execution_count": null,
      "outputs": [
        {
          "output_type": "execute_result",
          "data": {
            "text/plain": [
              "          comments     duration     film_date    languages  num_speaker  \\\n",
              "count  2485.000000  2485.000000  2.485000e+03  2485.000000  2485.000000   \n",
              "mean    165.729980   823.410463  1.322890e+09    27.018109     1.028571   \n",
              "std     159.211182   374.302186  1.200581e+08     9.356901     0.209450   \n",
              "min       2.000000   135.000000  7.464960e+07     0.000000     1.000000   \n",
              "25%      62.000000   576.000000  1.257503e+09    23.000000     1.000000   \n",
              "50%     114.000000   844.000000  1.334189e+09    28.000000     1.000000   \n",
              "75%     212.000000  1040.000000  1.413331e+09    32.000000     1.000000   \n",
              "max    1000.000000  5256.000000  1.503792e+09    72.000000     5.000000   \n",
              "\n",
              "       published_date         views  \n",
              "count    2.485000e+03  2.485000e+03  \n",
              "mean     1.344565e+09  1.446370e+06  \n",
              "std      9.471802e+07  1.222834e+06  \n",
              "min      1.151367e+09  5.044300e+04  \n",
              "25%      1.268895e+09  7.452310e+05  \n",
              "50%      1.342106e+09  1.108528e+06  \n",
              "75%      1.424880e+09  1.625469e+06  \n",
              "max      1.506092e+09  9.163813e+06  "
            ],
            "text/html": [
              "\n",
              "  <div id=\"df-e7b2ac56-95eb-46e4-b03c-949685548371\">\n",
              "    <div class=\"colab-df-container\">\n",
              "      <div>\n",
              "<style scoped>\n",
              "    .dataframe tbody tr th:only-of-type {\n",
              "        vertical-align: middle;\n",
              "    }\n",
              "\n",
              "    .dataframe tbody tr th {\n",
              "        vertical-align: top;\n",
              "    }\n",
              "\n",
              "    .dataframe thead th {\n",
              "        text-align: right;\n",
              "    }\n",
              "</style>\n",
              "<table border=\"1\" class=\"dataframe\">\n",
              "  <thead>\n",
              "    <tr style=\"text-align: right;\">\n",
              "      <th></th>\n",
              "      <th>comments</th>\n",
              "      <th>duration</th>\n",
              "      <th>film_date</th>\n",
              "      <th>languages</th>\n",
              "      <th>num_speaker</th>\n",
              "      <th>published_date</th>\n",
              "      <th>views</th>\n",
              "    </tr>\n",
              "  </thead>\n",
              "  <tbody>\n",
              "    <tr>\n",
              "      <th>count</th>\n",
              "      <td>2485.000000</td>\n",
              "      <td>2485.000000</td>\n",
              "      <td>2.485000e+03</td>\n",
              "      <td>2485.000000</td>\n",
              "      <td>2485.000000</td>\n",
              "      <td>2.485000e+03</td>\n",
              "      <td>2.485000e+03</td>\n",
              "    </tr>\n",
              "    <tr>\n",
              "      <th>mean</th>\n",
              "      <td>165.729980</td>\n",
              "      <td>823.410463</td>\n",
              "      <td>1.322890e+09</td>\n",
              "      <td>27.018109</td>\n",
              "      <td>1.028571</td>\n",
              "      <td>1.344565e+09</td>\n",
              "      <td>1.446370e+06</td>\n",
              "    </tr>\n",
              "    <tr>\n",
              "      <th>std</th>\n",
              "      <td>159.211182</td>\n",
              "      <td>374.302186</td>\n",
              "      <td>1.200581e+08</td>\n",
              "      <td>9.356901</td>\n",
              "      <td>0.209450</td>\n",
              "      <td>9.471802e+07</td>\n",
              "      <td>1.222834e+06</td>\n",
              "    </tr>\n",
              "    <tr>\n",
              "      <th>min</th>\n",
              "      <td>2.000000</td>\n",
              "      <td>135.000000</td>\n",
              "      <td>7.464960e+07</td>\n",
              "      <td>0.000000</td>\n",
              "      <td>1.000000</td>\n",
              "      <td>1.151367e+09</td>\n",
              "      <td>5.044300e+04</td>\n",
              "    </tr>\n",
              "    <tr>\n",
              "      <th>25%</th>\n",
              "      <td>62.000000</td>\n",
              "      <td>576.000000</td>\n",
              "      <td>1.257503e+09</td>\n",
              "      <td>23.000000</td>\n",
              "      <td>1.000000</td>\n",
              "      <td>1.268895e+09</td>\n",
              "      <td>7.452310e+05</td>\n",
              "    </tr>\n",
              "    <tr>\n",
              "      <th>50%</th>\n",
              "      <td>114.000000</td>\n",
              "      <td>844.000000</td>\n",
              "      <td>1.334189e+09</td>\n",
              "      <td>28.000000</td>\n",
              "      <td>1.000000</td>\n",
              "      <td>1.342106e+09</td>\n",
              "      <td>1.108528e+06</td>\n",
              "    </tr>\n",
              "    <tr>\n",
              "      <th>75%</th>\n",
              "      <td>212.000000</td>\n",
              "      <td>1040.000000</td>\n",
              "      <td>1.413331e+09</td>\n",
              "      <td>32.000000</td>\n",
              "      <td>1.000000</td>\n",
              "      <td>1.424880e+09</td>\n",
              "      <td>1.625469e+06</td>\n",
              "    </tr>\n",
              "    <tr>\n",
              "      <th>max</th>\n",
              "      <td>1000.000000</td>\n",
              "      <td>5256.000000</td>\n",
              "      <td>1.503792e+09</td>\n",
              "      <td>72.000000</td>\n",
              "      <td>5.000000</td>\n",
              "      <td>1.506092e+09</td>\n",
              "      <td>9.163813e+06</td>\n",
              "    </tr>\n",
              "  </tbody>\n",
              "</table>\n",
              "</div>\n",
              "      <button class=\"colab-df-convert\" onclick=\"convertToInteractive('df-e7b2ac56-95eb-46e4-b03c-949685548371')\"\n",
              "              title=\"Convert this dataframe to an interactive table.\"\n",
              "              style=\"display:none;\">\n",
              "        \n",
              "  <svg xmlns=\"http://www.w3.org/2000/svg\" height=\"24px\"viewBox=\"0 0 24 24\"\n",
              "       width=\"24px\">\n",
              "    <path d=\"M0 0h24v24H0V0z\" fill=\"none\"/>\n",
              "    <path d=\"M18.56 5.44l.94 2.06.94-2.06 2.06-.94-2.06-.94-.94-2.06-.94 2.06-2.06.94zm-11 1L8.5 8.5l.94-2.06 2.06-.94-2.06-.94L8.5 2.5l-.94 2.06-2.06.94zm10 10l.94 2.06.94-2.06 2.06-.94-2.06-.94-.94-2.06-.94 2.06-2.06.94z\"/><path d=\"M17.41 7.96l-1.37-1.37c-.4-.4-.92-.59-1.43-.59-.52 0-1.04.2-1.43.59L10.3 9.45l-7.72 7.72c-.78.78-.78 2.05 0 2.83L4 21.41c.39.39.9.59 1.41.59.51 0 1.02-.2 1.41-.59l7.78-7.78 2.81-2.81c.8-.78.8-2.07 0-2.86zM5.41 20L4 18.59l7.72-7.72 1.47 1.35L5.41 20z\"/>\n",
              "  </svg>\n",
              "      </button>\n",
              "      \n",
              "  <style>\n",
              "    .colab-df-container {\n",
              "      display:flex;\n",
              "      flex-wrap:wrap;\n",
              "      gap: 12px;\n",
              "    }\n",
              "\n",
              "    .colab-df-convert {\n",
              "      background-color: #E8F0FE;\n",
              "      border: none;\n",
              "      border-radius: 50%;\n",
              "      cursor: pointer;\n",
              "      display: none;\n",
              "      fill: #1967D2;\n",
              "      height: 32px;\n",
              "      padding: 0 0 0 0;\n",
              "      width: 32px;\n",
              "    }\n",
              "\n",
              "    .colab-df-convert:hover {\n",
              "      background-color: #E2EBFA;\n",
              "      box-shadow: 0px 1px 2px rgba(60, 64, 67, 0.3), 0px 1px 3px 1px rgba(60, 64, 67, 0.15);\n",
              "      fill: #174EA6;\n",
              "    }\n",
              "\n",
              "    [theme=dark] .colab-df-convert {\n",
              "      background-color: #3B4455;\n",
              "      fill: #D2E3FC;\n",
              "    }\n",
              "\n",
              "    [theme=dark] .colab-df-convert:hover {\n",
              "      background-color: #434B5C;\n",
              "      box-shadow: 0px 1px 3px 1px rgba(0, 0, 0, 0.15);\n",
              "      filter: drop-shadow(0px 1px 2px rgba(0, 0, 0, 0.3));\n",
              "      fill: #FFFFFF;\n",
              "    }\n",
              "  </style>\n",
              "\n",
              "      <script>\n",
              "        const buttonEl =\n",
              "          document.querySelector('#df-e7b2ac56-95eb-46e4-b03c-949685548371 button.colab-df-convert');\n",
              "        buttonEl.style.display =\n",
              "          google.colab.kernel.accessAllowed ? 'block' : 'none';\n",
              "\n",
              "        async function convertToInteractive(key) {\n",
              "          const element = document.querySelector('#df-e7b2ac56-95eb-46e4-b03c-949685548371');\n",
              "          const dataTable =\n",
              "            await google.colab.kernel.invokeFunction('convertToInteractive',\n",
              "                                                     [key], {});\n",
              "          if (!dataTable) return;\n",
              "\n",
              "          const docLinkHtml = 'Like what you see? Visit the ' +\n",
              "            '<a target=\"_blank\" href=https://colab.research.google.com/notebooks/data_table.ipynb>data table notebook</a>'\n",
              "            + ' to learn more about interactive tables.';\n",
              "          element.innerHTML = '';\n",
              "          dataTable['output_type'] = 'display_data';\n",
              "          await google.colab.output.renderOutput(dataTable, element);\n",
              "          const docLink = document.createElement('div');\n",
              "          docLink.innerHTML = docLinkHtml;\n",
              "          element.appendChild(docLink);\n",
              "        }\n",
              "      </script>\n",
              "    </div>\n",
              "  </div>\n",
              "  "
            ]
          },
          "metadata": {},
          "execution_count": 23
        }
      ]
    },
    {
      "cell_type": "markdown",
      "source": [
        "Now the standard deviation for comments and views columns is lower and mean and max values are not skewed by outliers."
      ],
      "metadata": {
        "id": "4lvbPdJftxrl"
      }
    },
    {
      "cell_type": "code",
      "source": [
        "month_order = ['Jan', 'Feb', 'Mar', 'Apr', 'May', 'Jun', 'Jul', 'Aug', 'Sep', 'Oct', 'Nov', 'Dec']\n",
        "day_order = ['Mon', 'Tue', 'Wed', 'Thu', 'Fri', 'Sat', 'Sun']\n",
        "df['film_date'] = pd.to_datetime(df['film_date'],unit='s')\n",
        "df['film_month'] = df['film_date'].apply(lambda x: month_order[int(x.month) - 1])\n",
        "df['film_day'] = df['film_date'].apply(lambda x: day_order[int(x.day) % 7 - 1])"
      ],
      "metadata": {
        "id": "eayrrbKwrC50"
      },
      "execution_count": null,
      "outputs": []
    },
    {
      "cell_type": "code",
      "source": [
        "fig, ax =plt.subplots(1,2, figsize=(20,10))\n",
        "sns.countplot(df['film_month'], ax=ax[0])\n",
        "sns.countplot(df['film_day'], ax=ax[1])\n",
        "fig.show()"
      ],
      "metadata": {
        "colab": {
          "base_uri": "https://localhost:8080/",
          "height": 580
        },
        "id": "QnIFYKwUrGkv",
        "outputId": "bc8ffa10-24bd-4e69-8406-996868c7eca4"
      },
      "execution_count": null,
      "outputs": [
        {
          "output_type": "display_data",
          "data": {
            "text/plain": [
              "<Figure size 1440x720 with 2 Axes>"
            ],
            "image/png": "[encoded data removed]"
          },
          "metadata": {
            "needs_background": "light"
          }
        }
      ]
    },
    {
      "cell_type": "markdown",
      "source": [
        "Looking at the distribution of talks over week days, we can see that difference is about 25% while the distribution over the months in an year is much more diverese - having less than 100 talks filmmed in January and about 600 in February. Therefore I think that these two new features will have impact on the target feature prediction and I will use them"
      ],
      "metadata": {
        "id": "vAvu3xUMt5cZ"
      }
    },
    {
      "cell_type": "code",
      "source": [
        "def cal_pos_rating_ratio(ratings):\n",
        "    counter = {'Funny':0, 'Beautiful':0, 'Ingenious':0, 'Courageous':0, 'Longwinded':0, 'Confusing':0, 'Informative':0, 'Fascinating':0, 'Unconvincing':0, 'Persuasive':0, 'Jaw-dropping':0, 'OK':0, 'Obnoxious':0, 'Inspiring':0}\n",
        "    neg_descriptors = {\"Confusing\", \"Unconvincing\", \"Longwinded\", \"Obnoxious\", \"OK\"}\n",
        "    for rating_list in ratings:\n",
        "        counter[rating_list['name']] += rating_list['count']\n",
        "    neg_desc_count = sum([counter[desc] for desc in neg_descriptors])\n",
        "    total_desc_count = sum(list(counter.values()))\n",
        "    pos_desc_count = total_desc_count - neg_desc_count\n",
        "    popular_data_no_tedex_pct_positive = 100 * (pos_desc_count / total_desc_count)\n",
        "    return popular_data_no_tedex_pct_positive"
      ],
      "metadata": {
        "id": "j7T9mFwMrKHl"
      },
      "execution_count": null,
      "outputs": []
    },
    {
      "cell_type": "code",
      "source": [
        "df['eval_ratings'] = df['ratings'].apply(lambda x: eval(x))"
      ],
      "metadata": {
        "id": "IjgrOfyJrRWl"
      },
      "execution_count": null,
      "outputs": []
    },
    {
      "cell_type": "code",
      "source": [
        "df['pos_rating_ratio'] = df.eval_ratings.apply(cal_pos_rating_ratio)"
      ],
      "metadata": {
        "id": "97_5YVSKrU4H"
      },
      "execution_count": null,
      "outputs": []
    },
    {
      "cell_type": "code",
      "source": [
        "def rating_count(ratings):\n",
        "    counter = {'Funny':0, 'Beautiful':0, 'Ingenious':0, 'Courageous':0, 'Longwinded':0, 'Confusing':0, 'Informative':0, 'Fascinating':0, 'Unconvincing':0, 'Persuasive':0, 'Jaw-dropping':0, 'OK':0, 'Obnoxious':0, 'Inspiring':0}\n",
        "    for rating_list in ratings:\n",
        "        counter[rating_list['name']] += rating_list['count']\n",
        "    return  sum(list(counter.values()))"
      ],
      "metadata": {
        "id": "KpTQVgdjrX16"
      },
      "execution_count": null,
      "outputs": []
    },
    {
      "cell_type": "code",
      "source": [
        "df['raiting_count'] = df.eval_ratings.apply(rating_count)"
      ],
      "metadata": {
        "id": "3NsOh-Mhravx"
      },
      "execution_count": null,
      "outputs": []
    },
    {
      "cell_type": "code",
      "source": [
        "y = df.views\n",
        "X = df.drop(['views', 'film_date', 'published_date', 'eval_ratings'], axis=1) # drop the columns that are not needed for predictions\n",
        "X.info()"
      ],
      "metadata": {
        "colab": {
          "base_uri": "https://localhost:8080/"
        },
        "id": "TaQ1x5zwrd-s",
        "outputId": "85b51005-f7d9-4cd7-cfad-57dcc52088f1"
      },
      "execution_count": null,
      "outputs": [
        {
          "output_type": "stream",
          "name": "stdout",
          "text": [
            "<class 'pandas.core.frame.DataFrame'>\n",
            "Int64Index: 2485 entries, 1 to 2549\n",
            "Data columns (total 18 columns):\n",
            " #   Column              Non-Null Count  Dtype  \n",
            "---  ------              --------------  -----  \n",
            " 0   comments            2485 non-null   int64  \n",
            " 1   description         2485 non-null   object \n",
            " 2   duration            2485 non-null   int64  \n",
            " 3   event               2485 non-null   object \n",
            " 4   languages           2485 non-null   int64  \n",
            " 5   main_speaker        2485 non-null   object \n",
            " 6   name                2485 non-null   object \n",
            " 7   num_speaker         2485 non-null   int64  \n",
            " 8   ratings             2485 non-null   object \n",
            " 9   related_talks       2485 non-null   object \n",
            " 10  speaker_occupation  2485 non-null   object \n",
            " 11  tags                2485 non-null   object \n",
            " 12  title               2485 non-null   object \n",
            " 13  url                 2485 non-null   object \n",
            " 14  film_month          2485 non-null   object \n",
            " 15  film_day            2485 non-null   object \n",
            " 16  pos_rating_ratio    2485 non-null   float64\n",
            " 17  raiting_count       2485 non-null   int64  \n",
            "dtypes: float64(1), int64(5), object(12)\n",
            "memory usage: 433.4+ KB\n"
          ]
        }
      ]
    },
    {
      "cell_type": "markdown",
      "source": [
        "Create train and validation data splits, keep low cardinality columns and one hot encode cathegorical features."
      ],
      "metadata": {
        "id": "aza87mPVuBjx"
      }
    },
    {
      "cell_type": "code",
      "source": [
        "X_train_full, X_valid_full, y_train, y_valid = train_test_split(X, y, train_size=0.8, test_size=0.2,\n",
        "                                                                random_state=0)\n",
        "# Select categorical columns with relatively low cardinality\n",
        "low_cardinality_cols = [cname for cname in X_train_full.columns if X_train_full[cname].nunique() < 13 and \n",
        "                        X_train_full[cname].dtype == \"object\"] # 13 is used to fit the month encoding\n",
        "\n",
        "# Select numeric columns\n",
        "numeric_cols = [cname for cname in X_train_full.columns if X_train_full[cname].dtype in ['int64', 'uint64', 'float64']]\n",
        "\n",
        "# Keep selected columns only\n",
        "my_cols = low_cardinality_cols + numeric_cols\n",
        "X_train = X_train_full[my_cols].copy()\n",
        "X_valid = X_valid_full[my_cols].copy()\n",
        "# One-hot encode the data\n",
        "X_train = pd.get_dummies(X_train)\n",
        "X_valid = pd.get_dummies(X_valid)\n",
        "X_train, X_valid = X_train.align(X_valid, join='left', axis=1)"
      ],
      "metadata": {
        "id": "b0hjCFAjrgzK"
      },
      "execution_count": null,
      "outputs": []
    },
    {
      "cell_type": "code",
      "source": [
        "X_train.info()\n"
      ],
      "metadata": {
        "colab": {
          "base_uri": "https://localhost:8080/"
        },
        "id": "IqxoPKwLrl9C",
        "outputId": "356e4de8-6c54-4c97-e9e3-5707b246019f"
      },
      "execution_count": null,
      "outputs": [
        {
          "output_type": "stream",
          "name": "stdout",
          "text": [
            "<class 'pandas.core.frame.DataFrame'>\n",
            "Int64Index: 1988 entries, 1252 to 1709\n",
            "Data columns (total 25 columns):\n",
            " #   Column            Non-Null Count  Dtype  \n",
            "---  ------            --------------  -----  \n",
            " 0   comments          1988 non-null   int64  \n",
            " 1   duration          1988 non-null   int64  \n",
            " 2   languages         1988 non-null   int64  \n",
            " 3   num_speaker       1988 non-null   int64  \n",
            " 4   pos_rating_ratio  1988 non-null   float64\n",
            " 5   raiting_count     1988 non-null   int64  \n",
            " 6   film_month_Apr    1988 non-null   uint8  \n",
            " 7   film_month_Aug    1988 non-null   uint8  \n",
            " 8   film_month_Dec    1988 non-null   uint8  \n",
            " 9   film_month_Feb    1988 non-null   uint8  \n",
            " 10  film_month_Jan    1988 non-null   uint8  \n",
            " 11  film_month_Jul    1988 non-null   uint8  \n",
            " 12  film_month_Jun    1988 non-null   uint8  \n",
            " 13  film_month_Mar    1988 non-null   uint8  \n",
            " 14  film_month_May    1988 non-null   uint8  \n",
            " 15  film_month_Nov    1988 non-null   uint8  \n",
            " 16  film_month_Oct    1988 non-null   uint8  \n",
            " 17  film_month_Sep    1988 non-null   uint8  \n",
            " 18  film_day_Fri      1988 non-null   uint8  \n",
            " 19  film_day_Mon      1988 non-null   uint8  \n",
            " 20  film_day_Sat      1988 non-null   uint8  \n",
            " 21  film_day_Sun      1988 non-null   uint8  \n",
            " 22  film_day_Thu      1988 non-null   uint8  \n",
            " 23  film_day_Tue      1988 non-null   uint8  \n",
            " 24  film_day_Wed      1988 non-null   uint8  \n",
            "dtypes: float64(1), int64(5), uint8(19)\n",
            "memory usage: 145.6 KB\n"
          ]
        }
      ]
    },
    {
      "cell_type": "markdown",
      "source": [
        "Build base model - Decision Tree\n",
        "\n",
        "1. As a baseline model I will use simple decision tree regressor\n",
        "2. As a model evaluation metric I will use MAE - mean absolute error\n"
      ],
      "metadata": {
        "id": "BT4jzqA7uRcK"
      }
    },
    {
      "cell_type": "code",
      "source": [
        "def get_mae(max_leaf_nodes, X_train, X_valid, y_train, y_valid):\n",
        "    model = DecisionTreeRegressor(max_leaf_nodes=max_leaf_nodes, random_state=0)\n",
        "    model.fit(X_train, y_train)\n",
        "    preds_val = model.predict(X_valid)\n",
        "    mae = mean_absolute_error(y_valid, preds_val)\n",
        "    return(mae)\n",
        "\n",
        "\n",
        "maes_dtr = []\n",
        "# compare MAE with differing values of max_leaf_nodes\n",
        "for max_leaf_nodes in [5, 25, 50, 100, 500, 5000]:\n",
        "    mae_dtr = get_mae(max_leaf_nodes, X_train, X_valid, y_train, y_valid)\n",
        "    maes_dtr.append(mae_dtr)\n",
        "    print(\"Max leaf nodes: %d  \\t\\t Mean Absolute Error:  %d\" %(max_leaf_nodes, mae_dtr))"
      ],
      "metadata": {
        "colab": {
          "base_uri": "https://localhost:8080/"
        },
        "id": "o0csC-CPrpF_",
        "outputId": "04bcbaa3-26e2-4139-ca2e-1e2efa3382fe"
      },
      "execution_count": null,
      "outputs": [
        {
          "output_type": "stream",
          "name": "stdout",
          "text": [
            "Max leaf nodes: 5  \t\t Mean Absolute Error:  530558\n",
            "Max leaf nodes: 25  \t\t Mean Absolute Error:  514890\n",
            "Max leaf nodes: 50  \t\t Mean Absolute Error:  522959\n",
            "Max leaf nodes: 100  \t\t Mean Absolute Error:  558657\n",
            "Max leaf nodes: 500  \t\t Mean Absolute Error:  609034\n",
            "Max leaf nodes: 5000  \t\t Mean Absolute Error:  634126\n"
          ]
        }
      ]
    },
    {
      "cell_type": "markdown",
      "source": [
        "Best performing decision tree model for this task is with 25 leafs."
      ],
      "metadata": {
        "id": "etq9dd1TuwOw"
      }
    },
    {
      "cell_type": "markdown",
      "source": [
        "Build a better model - RandomForest."
      ],
      "metadata": {
        "id": "habWubDBuxZ5"
      }
    },
    {
      "cell_type": "code",
      "source": [
        "def get_mae(max_leaf_nodes, X_train, X_valid, y_train, y_valid):\n",
        "    model = RandomForestRegressor(max_leaf_nodes=max_leaf_nodes, random_state=0)\n",
        "    model.fit(X_train, y_train)\n",
        "    preds_val = model.predict(X_valid)\n",
        "    mae = mean_absolute_error(y_valid, preds_val)\n",
        "    return(mae)\n",
        "\n",
        "\n",
        "maes_rfr = []\n",
        "# compare MAE with differing values of max_leaf_nodes\n",
        "for max_leaf_nodes in [5, 50, 500, 5000]:\n",
        "    mae_rf = get_mae(max_leaf_nodes, X_train, X_valid, y_train, y_valid)\n",
        "    maes_rfr.append(mae_rf)\n",
        "    print(\"Max leaf nodes: %d  \\t\\t Mean Absolute Error:  %d\" %(max_leaf_nodes, mae_rf))"
      ],
      "metadata": {
        "colab": {
          "base_uri": "https://localhost:8080/"
        },
        "id": "WfXPvnoPrtE4",
        "outputId": "5a99ac31-0759-402d-bdef-0d3d1205fe6c"
      },
      "execution_count": null,
      "outputs": [
        {
          "output_type": "stream",
          "name": "stdout",
          "text": [
            "Max leaf nodes: 5  \t\t Mean Absolute Error:  529032\n",
            "Max leaf nodes: 50  \t\t Mean Absolute Error:  487639\n",
            "Max leaf nodes: 500  \t\t Mean Absolute Error:  475455\n",
            "Max leaf nodes: 5000  \t\t Mean Absolute Error:  476208\n"
          ]
        }
      ]
    },
    {
      "cell_type": "markdown",
      "source": [
        "Best performing random forest model for this task is with 50 leafs."
      ],
      "metadata": {
        "id": "gGXu_CNIvGe6"
      }
    },
    {
      "cell_type": "markdown",
      "source": [
        "Build XGBRegressor model\n",
        "\n",
        "I am going to use GridsearchCV and KFOLD to tune hyperparameters for the model"
      ],
      "metadata": {
        "id": "SvSTDZE0vMBx"
      }
    },
    {
      "cell_type": "code",
      "source": [
        "kf = KFold(n_splits=5, shuffle=True, random_state=42)\n",
        "xgb1 = XGBRegressor(random_state=0, early_stopping_rounds=5, eval_set=[(X_valid, y_valid)],)\n",
        "parameters = {\n",
        "              'objective':['reg:linear'],\n",
        "              'learning_rate': [.1, .05, .07], #so called `eta` value\n",
        "              'max_depth': [5, 6, 7],\n",
        "              'min_child_weight': [4],\n",
        "              'silent': [1],\n",
        "              'subsample': [0.7],\n",
        "              'colsample_bytree': [0.7],\n",
        "              'n_estimators': [50, 500, 1000]}\n",
        "\n",
        "xgb_grid = GridSearchCV(xgb1,\n",
        "                        parameters,\n",
        "                        cv=kf,\n",
        "                        n_jobs = 5,\n",
        "                        scoring='neg_mean_absolute_error',\n",
        "                        verbose=True)\n",
        "\n",
        "xgb_grid.fit(X_train,\n",
        "         y_train)\n",
        "\n",
        "print(xgb_grid.best_score_)\n",
        "print(xgb_grid.best_params_)\n"
      ],
      "metadata": {
        "colab": {
          "base_uri": "https://localhost:8080/"
        },
        "id": "296XJkWtrxxZ",
        "outputId": "a00c176f-4988-4364-a199-fb4734b0e34f"
      },
      "execution_count": null,
      "outputs": [
        {
          "output_type": "stream",
          "name": "stdout",
          "text": [
            "Fitting 5 folds for each of 27 candidates, totalling 135 fits\n",
            "-442405.4325669991\n",
            "{'colsample_bytree': 0.7, 'learning_rate': 0.07, 'max_depth': 6, 'min_child_weight': 4, 'n_estimators': 50, 'objective': 'reg:linear', 'silent': 1, 'subsample': 0.7}\n"
          ]
        }
      ]
    },
    {
      "cell_type": "code",
      "source": [
        "plot_importance(xgb_grid.best_estimator_)"
      ],
      "metadata": {
        "colab": {
          "base_uri": "https://localhost:8080/",
          "height": 313
        },
        "id": "7VftTaKNr3c-",
        "outputId": "a735f3ff-a2db-4b84-b178-30682777e205"
      },
      "execution_count": null,
      "outputs": [
        {
          "output_type": "execute_result",
          "data": {
            "text/plain": [
              "<matplotlib.axes._subplots.AxesSubplot at 0x7f6e6c4b6110>"
            ]
          },
          "metadata": {},
          "execution_count": 37
        },
        {
          "output_type": "display_data",
          "data": {
            "text/plain": [
              "<Figure size 432x288 with 1 Axes>"
            ],
            "image/png": "[encoded data removed]"
          },
          "metadata": {
            "needs_background": "light"
          }
        }
      ]
    },
    {
      "cell_type": "code",
      "source": [
        "predictions_xgb = xgb_grid.predict(X_valid) \n",
        "# Calculate MAE\n",
        "mae_xgb = mean_absolute_error(predictions_xgb, y_valid)\n",
        "\n",
        "print(\"Mean Absolute Error:\" , mae_xgb)"
      ],
      "metadata": {
        "colab": {
          "base_uri": "https://localhost:8080/"
        },
        "id": "gs_VdFvisfUp",
        "outputId": "33fda804-ba59-4bee-a48b-54ba359b8cf6"
      },
      "execution_count": null,
      "outputs": [
        {
          "output_type": "stream",
          "name": "stdout",
          "text": [
            "Mean Absolute Error: 465165.7426747988\n"
          ]
        }
      ]
    },
    {
      "cell_type": "code",
      "source": [
        "y_mae = [min(maes_dtr), min(maes_rfr), mae_xgb]\n",
        "x_mae = ['Decision Tree MAE', 'Random Forest MAE', 'XGB MAE']"
      ],
      "metadata": {
        "id": "rNcT3Ciesjug"
      },
      "execution_count": null,
      "outputs": []
    },
    {
      "cell_type": "code",
      "source": [
        "sns.barplot(x=x_mae, y=y_mae)\n",
        "plt.ylabel(\"Mean Absolute Error\")\n"
      ],
      "metadata": {
        "colab": {
          "base_uri": "https://localhost:8080/",
          "height": 283
        },
        "id": "S8dUGWODsm_1",
        "outputId": "abb4538b-a996-4f24-953f-c36f7a9d292f"
      },
      "execution_count": null,
      "outputs": [
        {
          "output_type": "execute_result",
          "data": {
            "text/plain": [
              "Text(0, 0.5, 'Mean Absolute Error')"
            ]
          },
          "metadata": {},
          "execution_count": 40
        },
        {
          "output_type": "display_data",
          "data": {
            "text/plain": [
              "<Figure size 432x288 with 1 Axes>"
            ],
            "image/png": "[encoded data removed]"
          },
          "metadata": {
            "needs_background": "light"
          }
        }
      ]
    },
    {
      "cell_type": "markdown",
      "source": [
        "CONCLUSION\n",
        "\n",
        "The XGB regressor model with hyper paramter tunnig has achieved the lowest mean absolute error of ~460000, which means that its predictions can be of by that much. Considering the the mean median value for TED talk views is about 1.1e+6 it is clear the the models are not perfoming very well on this dataset. More work is needed on feature engineering to produce features with higher importance and with low cardinality from the rest of the cathegorical variables - tags, ratings, speaker occupation. However we can see that the pos_rating_ratio and rating_count features are of the highest importance when making predictions."
      ],
      "metadata": {
        "id": "eOuR_taUs_HC"
      }
    }
  ]
}